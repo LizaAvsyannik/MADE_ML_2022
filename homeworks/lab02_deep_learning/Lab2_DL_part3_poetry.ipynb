{
 "cells": [
  {
   "cell_type": "markdown",
   "metadata": {},
   "source": [
    "## Lab 2"
   ]
  },
  {
   "cell_type": "markdown",
   "metadata": {},
   "source": [
    "### Part 3. Poetry generation\n",
    "\n",
    "Let's try to generate some poetry using RNNs. \n",
    "\n",
    "You have several choices here: \n",
    "\n",
    "* The Shakespeare sonnets, file `sonnets.txt` available in the notebook directory.\n",
    "\n",
    "* Роман в стихах \"Евгений Онегин\" Александра Сергеевича Пушкина. В предобработанном виде доступен по [ссылке](https://github.com/attatrol/data_sources/blob/master/onegin.txt).\n",
    "\n",
    "* Some other text source, if it will be approved by the course staff.\n",
    "\n",
    "Text generation can be designed in several steps:\n",
    "    \n",
    "1. Data loading.\n",
    "2. Dictionary generation.\n",
    "3. Data preprocessing.\n",
    "4. Model (neural network) training.\n",
    "5. Text generation (model evaluation).\n"
   ]
  },
  {
   "cell_type": "code",
   "execution_count": 1,
   "metadata": {},
   "outputs": [],
   "source": [
    "import string\n",
    "import os\n",
    "\n",
    "import numpy as np\n",
    "import torch\n",
    "from torch import nn\n",
    "import torch.nn.functional as F\n",
    "from torch.utils.data import DataLoader\n",
    "\n",
    "\n",
    "device = 'cuda' if torch.cuda.is_available() else 'cpu'"
   ]
  },
  {
   "cell_type": "markdown",
   "metadata": {},
   "source": [
    "### Data loading: Shakespeare"
   ]
  },
  {
   "cell_type": "markdown",
   "metadata": {},
   "source": [
    "Shakespeare sonnets are awailable at this [link](http://www.gutenberg.org/ebooks/1041?msg=welcome_stranger). In addition, they are stored in the same directory as this notebook (`sonnetes.txt`). Simple preprocessing is already done for you in the next cell: all technical info is dropped."
   ]
  },
  {
   "cell_type": "code",
   "execution_count": 2,
   "metadata": {
    "collapsed": true
   },
   "outputs": [],
   "source": [
    "if not os.path.exists('sonnets.txt'):\n",
    "    !wget https://raw.githubusercontent.com/girafe-ai/ml-mipt/21f_basic/homeworks_basic/lab02_deep_learning/sonnets.txt\n",
    "\n",
    "with open('sonnets.txt', 'r') as iofile:\n",
    "    text = iofile.readlines()\n",
    "    \n",
    "TEXT_START = 45\n",
    "TEXT_END = -368\n",
    "text = text[TEXT_START : TEXT_END]\n",
    "assert len(text) == 2616"
   ]
  },
  {
   "cell_type": "code",
   "execution_count": 1,
   "metadata": {},
   "outputs": [],
   "source": [
    "from utils_3 import check_if_roman_numeral\n"
   ]
  },
  {
   "cell_type": "code",
   "execution_count": 4,
   "metadata": {},
   "outputs": [],
   "source": [
    "SOS = '<'\n",
    "EOS = '>'\n",
    "PAD = '_'\n",
    "\n",
    "sonnets = []\n",
    "sonnet = []\n",
    "\n",
    "for line in text:\n",
    "    if line.strip():\n",
    "        if check_if_roman_numeral(line.strip()):\n",
    "            sonnets.append(SOS + ''.join(sonnet) + EOS)\n",
    "            sonnet = []\n",
    "            continue\n",
    "        sonnet.append(line.lstrip().lower())\n"
   ]
  },
  {
   "cell_type": "markdown",
   "metadata": {},
   "source": [
    "In opposite to the in-class practice, this time we want to predict complex text. Let's reduce the complexity of the task and lowercase all the symbols.\n",
    "\n",
    "Now variable `text` is a list of strings. Join all the strings into one and lowercase it."
   ]
  },
  {
   "cell_type": "code",
   "execution_count": 5,
   "metadata": {},
   "outputs": [
    {
     "name": "stdout",
     "output_type": "stream",
     "text": [
      "OK!\n"
     ]
    }
   ],
   "source": [
    "# Join all the strings into one and lowercase it\n",
    "# Put result into variable text.\n",
    "\n",
    "# Your great code here\n",
    "text = ''.join(text).lower()\n",
    "\n",
    "assert len(text) == 100225, 'Are you sure you have concatenated all the strings?'\n",
    "assert not any([x in set(text) for x in string.ascii_uppercase]), 'Uppercase letters are present'\n",
    "print('OK!')"
   ]
  },
  {
   "cell_type": "markdown",
   "metadata": {},
   "source": [
    "Put all the characters, that you've seen in the text, into variable `tokens`."
   ]
  },
  {
   "cell_type": "code",
   "execution_count": 6,
   "metadata": {},
   "outputs": [],
   "source": [
    "tokens = set(text)\n",
    "tokens.add(EOS)\n",
    "tokens.add(SOS)\n",
    "tokens.add(PAD)\n",
    "tokens = sorted(tokens)\n",
    "num_tokens = len(tokens)\n",
    "assert num_tokens == 41"
   ]
  },
  {
   "cell_type": "markdown",
   "metadata": {},
   "source": [
    "Create dictionary `token_to_idx = {<char>: <index>}` and dictionary `idx_to_token = {<index>: <char>}`"
   ]
  },
  {
   "cell_type": "code",
   "execution_count": 7,
   "metadata": {
    "collapsed": true
   },
   "outputs": [],
   "source": [
    "# dict <index>:<char>\n",
    "# Your great code here\n",
    "idx_to_token = {i: c for i, c in enumerate(tokens)}\n",
    "\n",
    "\n",
    "# dict <char>:<index>\n",
    "# Your great code here\n",
    "token_to_idx = {c: i for i, c in enumerate(tokens)}"
   ]
  },
  {
   "cell_type": "markdown",
   "metadata": {},
   "source": [
    "*Comment: in this task we have only 38 different tokens, so let's use one-hot encoding.*"
   ]
  },
  {
   "cell_type": "markdown",
   "metadata": {},
   "source": [
    "### Building the model"
   ]
  },
  {
   "cell_type": "markdown",
   "metadata": {},
   "source": [
    "Now we want to build and train recurrent neural net which would be able to something similar to Shakespeare's poetry.\n",
    "\n",
    "Let's use vanilla RNN, similar to the one created during the lesson."
   ]
  },
  {
   "cell_type": "code",
   "execution_count": 8,
   "metadata": {
    "collapsed": true
   },
   "outputs": [],
   "source": [
    "# Your code here\n",
    "from models import RNN"
   ]
  },
  {
   "cell_type": "code",
   "execution_count": 9,
   "metadata": {},
   "outputs": [],
   "source": [
    "from utils_3 import to_matrix, train_loop"
   ]
  },
  {
   "cell_type": "markdown",
   "metadata": {},
   "source": [
    "Plot the loss function (axis X: number of epochs, axis Y: loss function)."
   ]
  },
  {
   "cell_type": "code",
   "execution_count": 10,
   "metadata": {},
   "outputs": [],
   "source": [
    "train_loader = DataLoader(to_matrix(token_to_idx, sonnets), batch_size=32, shuffle=True)"
   ]
  },
  {
   "cell_type": "code",
   "execution_count": 48,
   "metadata": {
    "collapsed": true
   },
   "outputs": [
    {
     "data": {
      "image/png": "[encoded data removed]",
      "text/plain": [
       "<Figure size 640x480 with 1 Axes>"
      ]
     },
     "metadata": {},
     "output_type": "display_data"
    },
    {
     "name": "stdout",
     "output_type": "stream",
     "text": [
      "Final Loss: 1.4316303968429565\n"
     ]
    }
   ],
   "source": [
    "# Your plot code here\n",
    "model = RNN(device=device)\n",
    "opt = torch.optim.Adam(model.parameters())\n",
    "loss_func = nn.CrossEntropyLoss(ignore_index=token_to_idx[PAD])\n",
    "n_epoch = 10000\n",
    "\n",
    "train_loop(model=model, loss_func=loss_func, opt=opt, n_epoch=n_epoch, num_tokens=num_tokens, train_loader=train_loader, device=device)\n"
   ]
  },
  {
   "cell_type": "code",
   "execution_count": 49,
   "metadata": {},
   "outputs": [],
   "source": [
    "def generate_sample(model, seed_phrase='<when', max_length=64, temperature=1.0, till_end=False):\n",
    "    '''\n",
    "    ### Disclaimer: this is an example function for text generation.\n",
    "    ### You can either adapt it in your code or create your own function\n",
    "    \n",
    "    The function generates text given a phrase of length at least SEQ_LENGTH.\n",
    "    :param seed_phrase: prefix characters. The RNN is asked to continue the phrase\n",
    "    :param max_length: maximum output length, including seed_phrase\n",
    "    :param temperature: coefficient for sampling.  higher temperature produces more chaotic outputs, \n",
    "        smaller temperature converges to the single most likely output.\n",
    "        \n",
    "    Be careful with the model output. This model waits logits (not probabilities/log-probabilities)\n",
    "    of the next symbol.\n",
    "    '''\n",
    "    seed_phrase = seed_phrase.lower()\n",
    "    \n",
    "    x_sequence = [token_to_idx[token] for token in seed_phrase]\n",
    "    x_sequence = torch.tensor([x_sequence], dtype=torch.int64)\n",
    "    h_state = model.initial_state()\n",
    "    \n",
    "    #feed the seed phrase, if any\n",
    "    for i in range(len(seed_phrase) - 1):\n",
    "        out, h_state = model(x_sequence[:, i].to(device), h_state)\n",
    "    \n",
    "    #start generating\n",
    "    if till_end:\n",
    "        next_ix = None\n",
    "        while next_ix != token_to_idx[EOS]:\n",
    "            out, h_state = model(x_sequence[:, -1].to(device), h_state)\n",
    "            # Be really careful here with the model output\n",
    "            p_next = F.softmax(out / temperature, dim=-1).cpu().data.numpy()[0]\n",
    "            \n",
    "            # sample next token and push it back into x_sequence\n",
    "            next_ix = np.random.choice(len(tokens), p=p_next)\n",
    "            next_ix = torch.tensor([[next_ix]], dtype=torch.int64)\n",
    "            x_sequence = torch.cat([x_sequence, next_ix], dim=1)\n",
    "        return ''.join([idx_to_token[ix] for ix in x_sequence.data.numpy()[0][:-1]])\n",
    "    else:\n",
    "        for _ in range(max_length - len(seed_phrase)):\n",
    "            out, h_state = model(x_sequence[:, -1].to(device), h_state)\n",
    "            # Be really careful here with the model output\n",
    "            p_next = F.softmax(out / temperature, dim=-1).cpu().data.numpy()[0]\n",
    "            \n",
    "            # sample next token and push it back into x_sequence\n",
    "            next_ix = np.random.choice(len(tokens), p=p_next)\n",
    "            next_ix = torch.tensor([[next_ix]], dtype=torch.int64)\n",
    "            if next_ix == token_to_idx[EOS]:\n",
    "                break\n",
    "            x_sequence = torch.cat([x_sequence, next_ix], dim=1)\n",
    "        return ''.join([idx_to_token[ix] for ix in x_sequence.data.numpy()[0]])"
   ]
  },
  {
   "cell_type": "code",
   "execution_count": 51,
   "metadata": {},
   "outputs": [
    {
     "name": "stdout",
     "output_type": "stream",
     "text": [
      "START WORD: when\n",
      "Temeprature: 0.1\n",
      "whens thee thee,\n",
      "and the stature the should the soul that the se\n",
      "--------------\n",
      "Temeprature: 0.5\n",
      "whens eyes,\n",
      "and the thoughts to the farth my love's rich yee.\n",
      "o!\n",
      "--------------\n",
      "Temeprature: 1.0\n",
      "whens i gives werk me,\n",
      "unkind breast ever in focton thou toom fl\n",
      "--------------\n",
      "Temeprature: 1.5\n",
      "whens.'st.\n",
      "newly humourf i itlesly fack:\n",
      "so unon makes budy even\n",
      "--------------\n",
      "START WORD: love\n",
      "Temeprature: 0.1\n",
      "love with the see,\n",
      "and the should the world the shower of the se\n",
      "--------------\n",
      "Temeprature: 0.5\n",
      "love me in thine,\n",
      "thou despy seep a noter'd the crown there,\n",
      "and\n",
      "--------------\n",
      "Temeprature: 1.0\n",
      "love and lose prine,\n",
      "and deid not with those earth's cilly gent \n",
      "--------------\n",
      "Temeprature: 1.5\n",
      "love 'siged,\n",
      "spipk, darst, to compoon;, though forgeg held can\n",
      "t\n",
      "--------------\n",
      "START WORD: god\n",
      "Temeprature: 0.1\n",
      "godeles state,\n",
      "and the stature the should the should the see the\n",
      "--------------\n",
      "Temeprature: 0.5\n",
      "godele of thee\n",
      "true say the loss thou doth that worth and me fro\n",
      "--------------\n",
      "Temeprature: 1.0\n",
      "godoun, batten,\n",
      "whereot you is eponiep a despose so?\n",
      "teed thy sp\n",
      "--------------\n",
      "Temeprature: 1.5\n",
      "god,\n",
      "some juys otherget me emes': unpluin dumblling:\n",
      "mane offly \n",
      "--------------\n",
      "START WORD: fair\n",
      "Temeprature: 0.1\n",
      "fair the seem'd,\n",
      "and the stature shall the will heart the seem s\n",
      "--------------\n",
      "Temeprature: 0.5\n",
      "fair dost in thee.\n",
      "\n",
      "--------------\n",
      "Temeprature: 1.0\n",
      "fair,\n",
      "where a dwwesing sharn my dough they invent?\n",
      "but if thenfo\n",
      "--------------\n",
      "Temeprature: 1.5\n",
      "fair.\n",
      "wh'd beholy arours decesnce, opteignt,\n",
      "i, any queit hate y\n",
      "--------------\n"
     ]
    }
   ],
   "source": [
    "# An example of generated text.\n",
    "model.eval()\n",
    "with torch.no_grad():\n",
    "    for phrase in ['when', 'love', 'god', 'fair']:\n",
    "        print(f'START WORD: {phrase}')\n",
    "        for temperature in [0.1, 0.5, 1.0, 1.5]:\n",
    "            print(f'Temeprature: {temperature}')\n",
    "            print(generate_sample(model, seed_phrase=phrase, max_length=64, temperature=temperature))\n",
    "            print(\"--------------\")"
   ]
  },
  {
   "cell_type": "code",
   "execution_count": 52,
   "metadata": {},
   "outputs": [
    {
     "name": "stdout",
     "output_type": "stream",
     "text": [
      "START WORD: when\n",
      "whens in thee,\n",
      "but not sweet the sounction i would say,\n",
      "the bare be the frainters being distoles\n",
      "the stature bearst where the sour in thee the love,\n",
      "which that what he love where with my end.\n",
      "i so not the the thoughts and thou despain,\n",
      "and love when the day thee time's some not,\n",
      "that the wark my dead have others of the showed,\n",
      "which that the shower made thou we himd of thou hold,\n",
      "and thou beauty since that be the state,\n",
      "and change be many is to your false thy sel\n",
      "knenceme be thou art my tongues to day\n",
      "that the star precious and thy sil the shouldst thee,\n",
      "which making all the small the straight,\n",
      "and the thoughts and the made the shall for my.\n",
      "\n",
      "--------------\n",
      "START WORD: love\n",
      "love and mind preck,\n",
      "my stremplerery in the world you and seen.\n",
      "\n",
      "--------------\n",
      "START WORD: god\n",
      "goding thee,\n",
      "and the strangerses and i crose me but it till,\n",
      "and that that the seem''s my love the world doth gong\n",
      "that thou that it the dead for the stature,\n",
      "and the short of thy poor that in with thee:\n",
      "the are shall the way some shall this beauty spent,\n",
      "and thy show the wournetion all the thine,\n",
      "which thou art my store of thy time doth hate,\n",
      "and thou will write the oft at the some,\n",
      "and my show that with thy shail the cantor best,\n",
      "even my love proud such this be thy spend,\n",
      "and the who hinded and the beauty fresh:\n",
      "yet no that i so night the form form sweet,\n",
      "which hate with thine thou world shall i shory with seem'd,\n",
      "when thine the some beauty such and the pere,\n",
      "or of the with shall the think to proud and.\n",
      "a lee my till have that thou beauty with thee thee,\n",
      "and then your still which the world thee, that my lies\n",
      "some in the live hath the show my are rurners.\n",
      "then like bearst are the shower good eyes,\n",
      "and i the love me this should with forth death,\n",
      "and the sun i woith's though i have not seen,\n",
      "that the love the every thy gends say,\n",
      "that the should that proud the prieftess with contrests,\n",
      "and fair them enderchen like a love.\n",
      "they sorrow the such heart that the seem short.\n",
      "\n",
      "--------------\n",
      "START WORD: fair\n",
      "fair, born more.\n",
      "o! contarnt i should i have show the praise,\n",
      "and flietst on the beauty's thine eyes with\n",
      "that learness the world do in the world of wills\n",
      "not thou should to should the dead that with the strong thee,\n",
      "and thy lives thou proving the dead the shower again,\n",
      "that thy parts the him where the beauty do,\n",
      "and that of thy hate to confoundly gongears,\n",
      "that my that him fear sweet love, and and spearst,\n",
      "so my self be thy shake thou methervec still,\n",
      "within my dear that thou hell that beauty\n",
      "which me and the proud the with see thee out his,\n",
      "to and thou will best therefore not beauty;\n",
      "which beauty beauty of thy child,\n",
      "and the beauty since will though in thee,\n",
      "and the praise mine with that on the canter thee,\n",
      "thou will that the before in the love,\n",
      "who bases be forthing be thy seem's worth,\n",
      "and i be that but and thy most being,\n",
      "and it my sweet of thy love be fortent,\n",
      "when thou the the beauty make so made const,\n",
      "and the worst when i am the world to be thee:\n",
      "as like on the self the wider store of spirid.\n",
      "\n",
      "--------------\n"
     ]
    }
   ],
   "source": [
    "with torch.no_grad():\n",
    "    for phrase in ['when', 'love', 'god', 'fair']:\n",
    "        print(f'START WORD: {phrase}')\n",
    "        print(generate_sample(model, seed_phrase=phrase, temperature=0.5, till_end=True))\n",
    "        print(\"--------------\")"
   ]
  },
  {
   "cell_type": "markdown",
   "metadata": {},
   "source": [
    "### More poetic model\n",
    "\n",
    "Let's use LSTM instead of vanilla RNN and compare the results."
   ]
  },
  {
   "cell_type": "markdown",
   "metadata": {},
   "source": [
    "Plot the loss function of the number of epochs. Does the final loss become better?"
   ]
  },
  {
   "cell_type": "code",
   "execution_count": 1,
   "metadata": {
    "collapsed": true
   },
   "outputs": [],
   "source": [
    "# Your beautiful code here\n",
    "from models import LSTM"
   ]
  },
  {
   "cell_type": "code",
   "execution_count": 17,
   "metadata": {},
   "outputs": [
    {
     "data": {
      "image/png": "[encoded data removed]",
      "text/plain": [
       "<Figure size 640x480 with 1 Axes>"
      ]
     },
     "metadata": {},
     "output_type": "display_data"
    },
    {
     "name": "stdout",
     "output_type": "stream",
     "text": [
      "Final Loss: 0.9676273465156555\n"
     ]
    }
   ],
   "source": [
    "model = LSTM(device=device)\n",
    "opt = torch.optim.Adam(model.parameters())\n",
    "loss_func = nn.CrossEntropyLoss(ignore_index=token_to_idx[PAD])\n",
    "n_epoch = 3000\n",
    "\n",
    "train_loop(model=model, loss_func=loss_func, opt=opt, n_epoch=n_epoch, num_tokens=num_tokens, train_loader=train_loader, device=device)"
   ]
  },
  {
   "cell_type": "markdown",
   "metadata": {},
   "source": [
    "_Nicer loss in less epoch! LSTM with two layers definitely helped._"
   ]
  },
  {
   "cell_type": "markdown",
   "metadata": {},
   "source": [
    "Generate text using the trained net with different `temperature` parameter: `[0.1, 0.2, 0.5, 1.0, 2.0]`.\n",
    "\n",
    "Evaluate the results visually, try to interpret them."
   ]
  },
  {
   "cell_type": "code",
   "execution_count": 41,
   "metadata": {
    "collapsed": true
   },
   "outputs": [
    {
     "name": "stdout",
     "output_type": "stream",
     "text": [
      "Temeprature: 0.1\n",
      "when evoom to my se song.\n",
      "\n",
      "--------------\n",
      "Temeprature: 0.2\n",
      "when evoom to my se song.\n",
      "\n",
      "--------------\n",
      "Temeprature: 0.5\n",
      "when evory i advace\n",
      "for that thou are thing that heart beauty's \n",
      "--------------\n",
      "Temeprature: 1.0\n",
      "when eyef too, making our thee.\n",
      "\n",
      "--------------\n",
      "Temeprature: 2.0\n",
      "when go,--sy may's sud, hur, i de goos,\n",
      "by him took, ay thy gent\n",
      "--------------\n",
      "Temeprature: 0.1\n",
      "love thoo has of me thou so shorng\n",
      "after the love's earthers of \n",
      "--------------\n",
      "Temeprature: 0.2\n",
      "love thoo has of the hours truth!\n",
      "wired to feed make my love to \n",
      "--------------\n",
      "Temeprature: 0.5\n",
      "love thoo has of you so;\n",
      "or to shoust that therefore thou thysad\n",
      "--------------\n",
      "Temeprature: 1.0\n",
      "love thoo yorcy as nouth,\n",
      "sonkross sijarss, in by nonow illd's,\n",
      "\n",
      "--------------\n",
      "Temeprature: 2.0\n",
      "love ace is,,, thou thow--lo longs wankers'ds. we:\n",
      "the\n",
      "of schent\n",
      "--------------\n",
      "Temeprature: 0.1\n",
      "god ney\n",
      "to sin lasce is my love she i am a corunge:\n",
      "that i have \n",
      "--------------\n",
      "Temeprature: 0.2\n",
      "god levet lims's lit hat time doth deeds,\n",
      "that thou dost thou sh\n",
      "--------------\n",
      "Temeprature: 0.5\n",
      "god nev's sit, like they so;\n",
      "for nothing so should made to thee \n",
      "--------------\n",
      "Temeprature: 1.0\n",
      "god im!s, litt they;\n",
      "afach their mark, like way, and moscoping t\n",
      "--------------\n",
      "Temeprature: 2.0\n",
      "god ipsi,!\n",
      "w'l nor is our toindige; kno those,\n",
      "pice, this bid di\n",
      "--------------\n",
      "Temeprature: 0.1\n",
      "fair no dot,\n",
      "and make the travel thou keeccely thee\n",
      "to which in \n",
      "--------------\n",
      "Temeprature: 0.2\n",
      "fair no droan\n",
      "a farful the to shoul the leave my be man\n",
      "dotest b\n",
      "--------------\n",
      "Temeprature: 0.5\n",
      "fair no drov'd,\n",
      "when nothy i see and thee that thou art,\n",
      "but, be\n",
      "--------------\n",
      "Temeprature: 1.0\n",
      "fair no forsad\n",
      "of thou away, as your eye not peling;\n",
      "canve wrill\n",
      "--------------\n",
      "Temeprature: 2.0\n",
      "fair lov's fus'as' to sady so.'\n",
      "thou hunwa, havh thoso nom weal-\n",
      "--------------\n"
     ]
    }
   ],
   "source": [
    "# Text generation with different temperature values here\n",
    "model.eval()\n",
    "with torch.no_grad():\n",
    "    for phrase in ['when', 'love', 'god', 'fair']:\n",
    "        for temperature in [0.1, 0.2, 0.5, 1.0, 2.0]:\n",
    "            print(f'Temeprature: {temperature}')\n",
    "            print(generate_sample(model, seed_phrase=phrase, max_length=64, temperature=temperature))\n",
    "            print(\"--------------\")"
   ]
  },
  {
   "cell_type": "markdown",
   "metadata": {},
   "source": [
    "_Higher temperature makes the generated texts more diverse. In our case seems like 0.5 is the best choice._"
   ]
  },
  {
   "cell_type": "code",
   "execution_count": 42,
   "metadata": {},
   "outputs": [
    {
     "name": "stdout",
     "output_type": "stream",
     "text": [
      "START WORD: when\n",
      "when each morn ward of self.\n",
      "ore i think an them, and thou my love,\n",
      "when in the carcaning hath more day,\n",
      "and make them blind perourd in onristers'\n",
      "or all my strong to ward of thee to myseld:\n",
      "he i seem'd from lie to the ever much'd,\n",
      "and is my wartent burtter of your sladse\n",
      "and die tongues to men must be them so groan;\n",
      "and in they shalt state of my singeds, now,\n",
      "and thrants to the eyes age this from things,\n",
      "comes what i may nouldst the pay please,\n",
      "when i see to the sport in the wordnd:\n",
      "such in the forly others' unirest thee.\n",
      "i am for math can not do i woust,\n",
      "that heaving thee will natur's of thee,\n",
      "the once thou, the bountion 'gainst be member;\n",
      "then, it in might see the unults cheare thee,\n",
      "and i will me unsuch'd thou that beautst,\n",
      "whilst i love should the count worth of love self-knot\n",
      "thereforios, but the spirit of the dead\n",
      "and sun my death, and make to the secay,\n",
      "while thou things can my freech in my warine,\n",
      "and in my peet beauty's sweet from sell,\n",
      "and wook'd have somplold in others' eyes,\n",
      "all this thy grace if possimest by thy such state:\n",
      "for that same speeking that thou art born thou\n",
      "unget what thy mine own take the fair,\n",
      "and most inflays for my beauty'st brow;\n",
      "same slow great on thy side of you deepor'd\n",
      "the suffe that ther, who heaven his sun me,\n",
      "they hate it is becoused painted great,\n",
      "and but their some and his suns my love's sweet,\n",
      "knowiring i than you should me thy sum'd:\n",
      "o! that do i hast this content showast,\n",
      "and though in my breathest be that being made\n",
      "which he this, and fresh speak of thy side one slanse.\n",
      "the summer's part injurie, why should for sums,\n",
      "and that my death, that your every strange;\n",
      "the bravigationous shall be my find,\n",
      "that i have she thy errors thou my arge:\n",
      "then, acrier it is nothing their face my blape.\n",
      "\n",
      "--------------\n",
      "START WORD: love\n",
      "love thoo has of the man\n",
      "that i horn sway a potteress all his live.\n",
      "the sad love's compose of thee, that thou art my clay,\n",
      "as thou is meings have in thee, whioh in me:\n",
      "by thou your criess these wintion is to might;\n",
      "and thou are mermory have state to thee\n",
      "with the breatter waste are men'sh.\n",
      "hath thy live of love, that my state thence,\n",
      "as yours, and my love shall be that most;\n",
      "since glass expressedon done that from you,\n",
      "haw asue'd is so from the contresteed,\n",
      "although thing that therefore to the eyes,\n",
      "whereon my self i sun sourest, that beauty's skeep.\n",
      "for than which he shall be the self shore can\n",
      "distary will such knower it it is make\n",
      "so shamedy gross'd in my sights they see;\n",
      "for i have sweet senvent where in my spend;\n",
      "but of firgly due art as the world decay;\n",
      "the roses beauty'st thou mounds as heart's groat,--\n",
      "whetht, the cure that my strong to may is, now,\n",
      "and far i conter still mail livest grow kind\n",
      "and therefore of mine own tongues bond, and make,\n",
      "for i am thar i am do, now despise\n",
      "thy looks, and onfizins of thee bonot's hath myseld:\n",
      "their summer in think restle i have selforgen-weet;\n",
      "for that hath my better, to show that beauty,\n",
      "the self-and his lines thy beauty that sights,\n",
      "and therefore to the printing to the sun'd,\n",
      "and in thee, and forwur's ender for thee,\n",
      "and thou in hopest crief that mine eye,\n",
      "to so, love to see in out of form as thee being.\n",
      "for i this it goodly is most grow,\n",
      "and than thou, in thee bearing heart doth beass:\n",
      "moth restter of the heartest, than old,\n",
      "thou artherce thou thy nor lonk on thee tone:\n",
      "then live, tire rectreness of thrift can stars,\n",
      "to live thou upon your presencession;\n",
      "therefore thou my thy-pourerous and that inatay,\n",
      "that perfum't thy give my waring is best,\n",
      "and that i do divy dislote long,\n",
      "a truth in thy soul, and in one shall all,\n",
      "and thou, i see and with buse and mine, bears,\n",
      "my self i marrire my time doth more need,\n",
      "with my lovely false grace a self shown?\n",
      "when gentle mandom from my all illly?\n",
      "un thy soul have would wear deates of great,\n",
      "then ill not to come not love i can liteen;\n",
      "for their self shall in thee thee in thy ting spend.\n",
      "thence their store though thy beauty hath my self-ray,\n",
      "tongue thou frank do she thou mostanding eyes,\n",
      "but, being a tould me than my heart to grean.\n",
      "\n",
      "--------------\n",
      "START WORD: god\n",
      "god ney\n",
      "to sin play? blest, hume from shadows doth life:\n",
      "for than in thy heart well to the more, then day,\n",
      "thy lost of thy sweet in the true,\n",
      "thy give seems in my love sor store,\n",
      "that i hoo till me shame so far the worst of more,\n",
      "to show what you are see the eye desire.\n",
      "\n",
      "--------------\n",
      "START WORD: fair\n",
      "fair no pare,\n",
      "and me not the scope thee beauty's wrong,\n",
      "and bring my great doth painting the least,\n",
      "and my lays of thee, whereof it do my?sur\n",
      "hath to thencely art the swelly happ's dost,\n",
      "since all the dear do not so found,\n",
      "and brough doth not sight is thine lies\n",
      "when thoughts i co must of the did make shame,\n",
      "all it false of my judgmenting need,\n",
      "the arter, dreams for all the poor thee.\n",
      "yet it good diserting my singents thence,\n",
      "or beauty their parts to see well a sunk'd,\n",
      "and such me in thee, who estyents\n",
      "have stealing thou dost shine the would may:\n",
      "and thou are this firest pacts of heast for trust,\n",
      "sicklits, and seld my dranlo-se to true said;\n",
      "for i have sweet some their beauty's rapent,\n",
      "and i love and that i will that popes of my days,\n",
      "and that love thy love, thou art of mark recence,\n",
      "to this buts eyes and givent doth not, yet,\n",
      "and thou, whose confoundles addit then mind,\n",
      "beauty my love's breath that false art my blap stain.\n",
      "\n",
      "--------------\n"
     ]
    }
   ],
   "source": [
    "with torch.no_grad():\n",
    "    for phrase in ['when', 'love', 'god', 'fair']:\n",
    "        print(f'START WORD: {phrase}')\n",
    "        print(generate_sample(model, seed_phrase=phrase, temperature=0.5, till_end=True))\n",
    "        print(\"--------------\")"
   ]
  },
  {
   "cell_type": "markdown",
   "metadata": {},
   "source": [
    "### Saving and loading models"
   ]
  },
  {
   "cell_type": "markdown",
   "metadata": {},
   "source": [
    "Save the model to the disk, then load it and generate text. Examples are available [here](https://pytorch.org/tutorials/beginner/saving_loading_models.html])."
   ]
  },
  {
   "cell_type": "code",
   "execution_count": 46,
   "metadata": {
    "collapsed": true
   },
   "outputs": [
    {
     "name": "stdout",
     "output_type": "stream",
     "text": [
      "that thereby beauty's rose might never rude,\n",
      "rysons isstor thou false thee to be come,\n",
      "that make the travel one old of thines of pleasure:\n",
      "then rich in thee, when my heart to men mine,\n",
      "thy loshing that his false to come not seld:\n",
      "then mine eyes, and their spiking of youth thee count,\n",
      "and more new authory beauty's best in me.\n",
      "\n"
     ]
    }
   ],
   "source": [
    "# Saving and loading code here\n",
    "path_to_save = 'lstm_model.pkl'\n",
    "torch.save(model.state_dict(), path_to_save)\n",
    "\n",
    "model_loaded = LSTM(device=device)\n",
    "model_loaded.load_state_dict(torch.load(path_to_save))\n",
    "\n",
    "model_loaded.eval()\n",
    "with torch.no_grad():\n",
    "    print(generate_sample(model_loaded, seed_phrase='That thereby beauty\\'s rose might never ', temperature=0.5, till_end=True))"
   ]
  },
  {
   "cell_type": "markdown",
   "metadata": {},
   "source": [
    "_Conclusion: results look pretty good, considering that not words, but letters were taken as tokens. Results have structure and a lot of words make sense. Still model invents new words or it can simply be some medieval english, hard to say sometimes :)._"
   ]
  },
  {
   "cell_type": "markdown",
   "metadata": {},
   "source": [
    "### References\n",
    "1. <a href='http://karpathy.github.io/2015/05/21/rnn-effectiveness/'> Andrew Karpathy blog post about RNN. </a> \n",
    "There are several examples of genration: Shakespeare texts, Latex formulas, Linux Sourse Code and children names.\n",
    "2. <a href='https://github.com/karpathy/char-rnn'> Repo with char-rnn code </a>\n",
    "3. Cool repo with PyTorch examples: [link](https://github.com/spro/practical-pytorch`)"
   ]
  }
 ],
 "metadata": {
  "anaconda-cloud": {},
  "kernelspec": {
   "display_name": "Python 3.8.10 ('ml')",
   "language": "python",
   "name": "python3"
  },
  "language_info": {
   "codemirror_mode": {
    "name": "ipython",
    "version": 3
   },
   "file_extension": ".py",
   "mimetype": "text/x-python",
   "name": "python",
   "nbconvert_exporter": "python",
   "pygments_lexer": "ipython3",
   "version": "3.8.10"
  },
  "vscode": {
   "interpreter": {
    "hash": "2c17e2c1f469873d148a4469f7685bacdc6b3c67af72e4a92b2095c14119fd8b"
   }
  }
 },
 "nbformat": 4,
 "nbformat_minor": 2
}
