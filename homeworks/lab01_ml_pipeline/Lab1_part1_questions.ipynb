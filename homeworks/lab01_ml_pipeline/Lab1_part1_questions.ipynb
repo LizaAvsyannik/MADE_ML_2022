{
 "cells": [
  {
   "cell_type": "markdown",
   "metadata": {},
   "source": [
    "*Credits: materials from this notebook belong to YSDA [Practical DL](https://github.com/yandexdataschool/Practical_DL) course. Special thanks for making them available online.*"
   ]
  },
  {
   "cell_type": "markdown",
   "metadata": {},
   "source": [
    "# Lab assignment №1, part 1\n",
    "\n",
    "This lab assignment consists of several parts. You are supposed to make some transformations, train some models, estimate the quality of the models and explain your results.\n",
    "\n",
    "Several comments:\n",
    "* Don't hesitate to ask questions, it's a good practice.\n",
    "* No private/public sharing, please. The copied assignments will be graded with 0 points.\n",
    "* Blocks of this lab will be graded separately."
   ]
  },
  {
   "cell_type": "markdown",
   "metadata": {},
   "source": [
    "## 1. Matrix differentiation"
   ]
  },
  {
   "cell_type": "markdown",
   "metadata": {},
   "source": [
    "Since it easy to google every task please please please try to undestand what's going on. The \"just answer\" thing will be not counted, make sure to present derivation of your solution. It is absolutely OK if you found an answer on web then just exercise in $\\LaTeX$ copying it into here."
   ]
  },
  {
   "cell_type": "markdown",
   "metadata": {},
   "source": [
    "Useful links: \n",
    "[1](http://www.machinelearning.ru/wiki/images/2/2a/Matrix-Gauss.pdf)\n",
    "[2](http://www.atmos.washington.edu/~dennis/MatrixCalculus.pdf)"
   ]
  },
  {
   "cell_type": "markdown",
   "metadata": {},
   "source": [
    "## ex. 1"
   ]
  },
  {
   "cell_type": "markdown",
   "metadata": {},
   "source": [
    "$$  \n",
    "y = x^Tx,  \\quad x \\in \\mathbb{R}^N \n",
    "$$"
   ]
  },
  {
   "cell_type": "markdown",
   "metadata": {},
   "source": [
    "$$\n",
    "y = x_1^2 + x_2^2 + ... + x_n^2\n",
    "$$\n",
    "\n",
    "$$\n",
    "\\frac{dy}{dx} = [\\frac{dy}{dx_1} \\quad  \\frac{dy}{dx_2}  \\quad  ...  \\quad  \\frac{dy}{dx_n}]^T\n",
    "$$\n",
    "$$\n",
    "\\frac{dy}{dx} = [2x_1 \\quad  2x_2  \\quad  ...  \\quad  2x_n]^T  = 2x\n",
    "$$ "
   ]
  },
  {
   "cell_type": "markdown",
   "metadata": {},
   "source": [
    "## ex. 2"
   ]
  },
  {
   "cell_type": "markdown",
   "metadata": {},
   "source": [
    "$$ y = tr(AB) \\quad A,B \\in \\mathbb{R}^{N \\times N} $$ "
   ]
  },
  {
   "cell_type": "markdown",
   "metadata": {},
   "source": [
    "$$ diag(AB) = [\\displaystyle\\sum_{i = 1}^{n} a_{1i}b_{i1} \\quad \\displaystyle\\sum_{i = 1}^{n} a_{2i}b_{i2} \\quad ... \\quad \\displaystyle\\sum_{i = 1}^{n} a_{ni}b_{in}]^T $$\n",
    "$$ y = \\displaystyle \\displaystyle\\sum_{j = 1}^{n} \\sum_{i = 1}^{n} a_{ji}b_{ij}$$\n",
    "\n",
    "$$\n",
    "\\frac{dy}{dA} = \\begin{bmatrix}\n",
    "\\frac{dy}{da_{11}} & \\frac{dy}{da_{12}} & ... & \\frac{dy}{da_{1n}}\\\\\n",
    "\\frac{dy}{da_{21}} & \\frac{dy}{da_{22}} & ... & \\frac{dy}{da_{2n}}\\\\\n",
    "... & ... & ... & ... \\\\\n",
    "\\frac{dy}{da_{n1}} & \\frac{dy}{da_{n2}} & ... & \\frac{dy}{da_{nn}}\\\\\n",
    "\\end{bmatrix}\n",
    "$$ \n",
    "\n",
    "$$\n",
    "\\frac{dy}{dA} = \\begin{bmatrix}\n",
    "b_{11} & b_{21} & ... & b_{n1}\\\\\n",
    "b_{12} & b_{22} & ... & b_{n2}\\\\\n",
    "... & ... & ... & ... \\\\\n",
    "b_{1n} & b_{2n} & ... & b_{nn}\\\\\n",
    "\\end{bmatrix}\n",
    "$$ \n",
    "\n",
    "$$\n",
    "\\frac{dy}{dA} = B^T\n",
    "$$ "
   ]
  },
  {
   "cell_type": "markdown",
   "metadata": {},
   "source": [
    "## ex. 3"
   ]
  },
  {
   "cell_type": "markdown",
   "metadata": {},
   "source": [
    "$$  \n",
    "y = x^TAc , \\quad A\\in \\mathbb{R}^{N \\times N}, x\\in \\mathbb{R}^{N}, c\\in \\mathbb{R}^{N} \n",
    "$$"
   ]
  },
  {
   "cell_type": "markdown",
   "metadata": {},
   "source": [
    "\n",
    "$$\n",
    "y = x_1 \\displaystyle \\displaystyle\\sum_{i = 1}^{n} a_{1i}c_{i} + x_2 \\displaystyle \\displaystyle\\sum_{i = 1}^{n} a_{2i}c_{i} + ... + x_n \\displaystyle \\displaystyle\\sum_{i = 1}^{n} a_{ni}c_{i}\n",
    "$$\n",
    "\n",
    "$$\n",
    "\\frac{dy}{dx} = [\\frac{dy}{dx_1} \\quad  \\frac{dy}{dx_2}  \\quad  ...  \\quad  \\frac{dy}{dx_n}]^T\n",
    "$$\n",
    "\n",
    "$$\n",
    "\\frac{dy}{dx} = [\\displaystyle\\sum_{i = 1}^{n} a_{1i}c_{i} \\quad  \\displaystyle \\displaystyle\\sum_{i = 1}^{n} a_{2i}c_{i}  \\quad  ...  \\quad  \\displaystyle \\displaystyle\\sum_{i = 1}^{n} a_{ni}c_{i}]^T = Ac\n",
    "$$\n",
    "\n",
    "$$\n",
    "\\frac{dy}{dA} = \\begin{bmatrix}\n",
    "\\frac{dy}{da_{11}} & \\frac{dy}{da_{12}} & ... & \\frac{dy}{da_{1n}}\\\\\n",
    "\\frac{dy}{da_{21}} & \\frac{dy}{da_{22}} & ... & \\frac{dy}{da_{2n}}\\\\\n",
    "... & ... & ... & ... \\\\\n",
    "\\frac{dy}{da_{n1}} & \\frac{dy}{da_{n2}} & ... & \\frac{dy}{da_{nn}}\\\\\n",
    "\\end{bmatrix}\n",
    "$$\n",
    "\n",
    "\n",
    "$$\n",
    "\\frac{dy}{dA} = \\begin{bmatrix}\n",
    "x_1c_1 & x_1c_2 & ... & x_1c_n\\\\\n",
    "x_2c_1 & x_2c_2 & ... & x_2c_n\\\\\n",
    "... & ... & ... & ... \\\\\n",
    "x_nc_1 & x_nc_2 & ... & x_nc_n\\\\\n",
    "\\end{bmatrix} = xc^T\n",
    "$$\n",
    "$$\n",
    "OR:\n",
    "$$\n",
    "$$\n",
    "\\frac{dtr(CAB)}{dA} = [tr(ABC) = tr (CAB)] = \\frac{dtr(ABC)}{dA} = [ex. 2] = (BC)^T = C^TB^T =[C = x^T, B = c] = xc^T\n",
    "$$"
   ]
  },
  {
   "cell_type": "markdown",
   "metadata": {},
   "source": [
    "Hint for the latter (one of the ways): use *ex. 2* result and the fact \n",
    "$$\n",
    "tr(ABC) = tr (CAB)\n",
    "$$"
   ]
  },
  {
   "cell_type": "markdown",
   "metadata": {},
   "source": [
    "## ex. 4"
   ]
  },
  {
   "cell_type": "markdown",
   "metadata": {},
   "source": [
    "Classic matrix factorization example. Given matrix $X$ you need to find $A$, $S$ to approximate $X$. This can be done by simple gradient descent iteratively alternating $A$ and $S$ updates.\n",
    "$$\n",
    "J = || X - AS ||_F^2  , \\quad A\\in \\mathbb{R}^{N \\times R} , \\quad S\\in \\mathbb{R}^{R \\times M}\n",
    "$$\n",
    "$$\n",
    "\\frac{dJ}{dS} = \\frac{tr((X - AS)(X - AS)^T)}{dS} = \n",
    "$$\n",
    "$$\n",
    "\\frac{tr((X - AS)(X^T - S^TA^T))}{dS} = \n",
    "$$\n",
    "$$\n",
    "\\frac{tr(XX^T - XS^TA^T - ASX^T + ASS^TA^T)}{dS} = \n",
    "$$\n",
    "$$\n",
    "\\frac{tr(XX^T)}{dS} - \\frac{tr(XS^TA^T)}{dS} - \\frac{tr(ASX^T)}{dS} + \\frac{tr(ASS^TA^T)}{dS} = \n",
    "$$\n",
    "$$\n",
    "- \\frac{tr(XS^TA^T)}{dS} - \\frac{tr(ASX^T)}{dS} + \\frac{tr(ASS^TA^T)}{dS} =\n",
    "$$\n",
    "$$\n",
    "[tr(A) = tr(A^T)] =\n",
    "$$\n",
    "$$\n",
    "- 2  \\frac{tr(ASX^T)}{dS}  + \\frac{tr(S^TA^TAS)}{dS} =\n",
    "$$\n",
    "$$\n",
    "[tr(ABC) = tr (CAB) = tr(BCA)] =\n",
    "$$\n",
    "$$\n",
    "- 2  \\frac{tr(SX^TA)}{dS}  + \\frac{tr(S^TA^TAS)}{dS} = \n",
    "$$\n",
    "$$\n",
    "[ex. 2] =\n",
    "$$\n",
    "$$\n",
    "- 2 A^TX  + 2 A^TAS = \n",
    "$$\n",
    "$$\n",
    "- 2 A^T (X  - AS)\n",
    "$$\n",
    "Using [The Matrix Cookbook eq.108](https://www.math.uwaterloo.ca/~hwolkowi/matrixcookbook.pdf) and the fact that $A^TA$ is symmetric to go from $\\frac{tr(S^TA^TAS)}{dS}$ to $2 A^TAS$."
   ]
  },
  {
   "cell_type": "markdown",
   "metadata": {},
   "source": [
    "You may use one of the following approaches:"
   ]
  },
  {
   "cell_type": "markdown",
   "metadata": {},
   "source": [
    "#### First approach\n",
    "Using ex.2 and the fact:\n",
    "$$\n",
    "|| X ||_F^2 = tr(XX^T) \n",
    "$$ \n",
    "it is easy to derive gradients (you can find it in one of the refs). "
   ]
  },
  {
   "cell_type": "markdown",
   "metadata": {},
   "source": [
    "#### Second approach\n",
    "You can use *slightly different techniques* if they suits you. Take a look at this derivation:\n",
    "<img src=\"grad.png\">\n",
    "(excerpt from [Handbook of blind source separation, Jutten, page 517](https://books.google.ru/books?id=PTbj03bYH6kC&printsec=frontcover&dq=Handbook+of+Blind+Source+Separation&hl=en&sa=X&ved=0ahUKEwi-q_apiJDLAhULvXIKHVXJDWcQ6AEIHDAA#v=onepage&q=Handbook%20of%20Blind%20Source%20Separation&f=false), open for better picture)."
   ]
  },
  {
   "cell_type": "markdown",
   "metadata": {},
   "source": [
    "#### Third approach\n",
    "And finally we can use chain rule! \n",
    "let $ F = AS $ \n",
    "\n",
    "**Find**\n",
    "$$\n",
    "\\frac{dJ}{dF} =  \n",
    "$$ \n",
    "and \n",
    "$$\n",
    "\\frac{dF}{dS} =  \n",
    "$$ \n",
    "(the shape should be $ NM \\times RM )$.\n",
    "\n",
    "Now it is easy do get desired gradients:\n",
    "$$\n",
    "\\frac{dJ}{dS} =  \n",
    "$$ "
   ]
  },
  {
   "cell_type": "markdown",
   "metadata": {
    "collapsed": true,
    "jupyter": {
     "outputs_hidden": true
    }
   },
   "source": [
    "## 2. kNN questions\n",
    "Here come the questions from the assignment0_01. Please, refer to the assignment0_01 to get the context of the questions."
   ]
  },
  {
   "cell_type": "markdown",
   "metadata": {},
   "source": [
    "### Question 1\n",
    "\n",
    "Notice the structured patterns in the distance matrix, where some rows or columns are visible brighter. (Note that with the default color scheme black indicates low distances while white indicates high distances.)\n",
    "\n",
    "- What in the data is the cause behind the distinctly bright rows?\n",
    "- What causes the columns?\n",
    "\n",
    "*Your Answer:* This indicates that both test and train data has some outliers - samples that are far from the rest of the dataset.\n",
    "\n",
    "\n",
    "\n"
   ]
  },
  {
   "cell_type": "markdown",
   "metadata": {},
   "source": [
    "### Question 2\n",
    "\n",
    "We can also use other distance metrics such as L1 distance.\n",
    "For pixel values $p_{ij}^{(k)}$ at location $(i,j)$ of some image $I_k$, \n",
    "\n",
    "the mean $\\mu$ across all pixels over all images is $$\\mu=\\frac{1}{nhw}\\sum_{k=1}^n\\sum_{i=1}^{h}\\sum_{j=1}^{w}p_{ij}^{(k)}$$\n",
    "And the pixel-wise mean $\\mu_{ij}$ across all images is \n",
    "$$\\mu_{ij}=\\frac{1}{n}\\sum_{k=1}^np_{ij}^{(k)}.$$\n",
    "The general standard deviation $\\sigma$ and pixel-wise standard deviation $\\sigma_{ij}$ is defined similarly.\n",
    "\n",
    "Which of the following preprocessing steps will not change the performance of a Nearest Neighbor classifier that uses L1 distance? Select all that apply.\n",
    "1. Subtracting the mean $\\mu$ ($\\tilde{p}_{ij}^{(k)}=p_{ij}^{(k)}-\\mu$.)\n",
    "2. Subtracting the per pixel mean $\\mu_{ij}$  ($\\tilde{p}_{ij}^{(k)}=p_{ij}^{(k)}-\\mu_{ij}$.)\n",
    "3. Subtracting the mean $\\mu$ and dividing by the standard deviation $\\sigma$.\n",
    "4. Subtracting the pixel-wise mean $\\mu_{ij}$ and dividing by the pixel-wise standard deviation $\\sigma_{ij}$.\n",
    "5. Rotating the coordinate axes of the data.\n",
    "\n",
    "*Your Answer:* 1, 2, 3, 5\n",
    "\n",
    "\n",
    "*Your Explanation:*\n",
    "Let's consider distance between two images\n",
    "$d_{l_1}(I_1, I_2) = \\displaystyle\\sum_{(i, j) \\in (H, W)}|p_{ij}^{(k1)} - p_{ij}^{(k2)}|$\n",
    "1. $d_{l_1}(I_1, I_2) = \\displaystyle\\sum_{(i, j) \\in (H, W)}|(p_{ij}^{(k1)} - \\mu) - (p_{ij}^{(k2)} - \\mu)|  = \n",
    "\\displaystyle\\sum_{(i, j) \\in (H, W)}|p_{ij}^{(k1)} - \\mu + \\mu - p_{ij}^{(k2} | = d_{l_1}(I_1, I_2)$\n",
    "2. $d_{l_1}(I_1, I_2) = \\displaystyle\\sum_{(i, j) \\in (H, W)}|(p_{ij}^{(k1)} - \\mu_{ij}) - (p_{ij}^{(k2)} - \\mu_{ij})|  = \n",
    "\\displaystyle\\sum_{(i, j) \\in (H, W)}|p_{ij}^{(k1)} - \\mu_{ij} + \\mu_{ij} - p_{ij}^{(k2} | = d_{l_1}(I_1, I_2) $\n",
    "3. $d_{l_1}(I_1, I_2) = \\displaystyle\\sum_{(i, j) \\in (H, W)}|\\frac{(p_{ij}^{(k1)} - \\mu)}{\\sigma} - \\frac{(p_{ij}^{(k2)} - \\mu)}{\\sigma}|  = \n",
    "\\displaystyle\\sum_{(i, j) \\in (H, W)}|\\frac{p_{ij}^{(k1)}}{\\sigma} - \\frac{\\mu}{\\sigma} + \\frac{\\mu}{\\sigma} - \\frac{p_{ij}^{(k2}}{\\sigma}| = [sigma > 0] = \\frac{d_{l_1}(I_1, I_2)}{\\sigma}$ \\\n",
    "Dividing each element in distance matrix by the common factor won't affect the KNN results, as the ranging of distances matters. So if we divide all the distrances by the same factor, the ranging won't change.\n",
    "4. $d_{l_1}(I_1, I_2) = \\displaystyle\\sum_{(i, j) \\in (H, W)}|\\frac{(p_{ij}^{(k1)} - \\mu_{ij})}{\\sigma_{ij}} - \\frac{(p_{ij}^{(k2)} - \\mu_{ij})}{\\sigma_{ij}}|  = \n",
    "\\displaystyle\\sum_{(i, j) \\in (H, W)}|\\frac{p_{ij}^{(k1)}}{\\sigma_{ij}} - \\frac{\\mu_{ij}}{\\sigma_{ij}} + \\frac{\\mu_{ij}}{\\sigma_{ij}} - \\frac{p_{ij}^{(k2}}{\\sigma_{ij}}| = \\displaystyle\\sum_{(i, j) \\in (H, W)}\\frac{|p_{ij}^{(k1)} - p_{ij}^{(k2)}|}{\\sigma_{ij}}$.\\\n",
    "Each term will be divided by its own factor, so this affects KNN results.\n",
    "5. $(i, j) \\rightarrow (i', j') = (j, i)$ \\\n",
    "So $|p_{ij}^{(k1)} - p_{ij}^{(k2)}| = |p_{ji}^{(k1')} - p_{ji}^{(k2')}|$ \\\n",
    "$ (H, W) \\rightarrow (W, H)$ \\\n",
    "So we will go over the same coordinate grid, just in different order. \\\n",
    "$d_{l_1}(I_1, I_2) = \\displaystyle\\sum_{(i, j) \\in (H, W)}|p_{ij}^{(k1)} - p_{ij}^{(k2)}| = \\displaystyle\\sum_{(j, i) \\in (W, H)}|p_{ji}^{(k1')} - p_{ji}^{(k2')}| = d_{l_1}(I_1', I_2')$ \n",
    "\n"
   ]
  },
  {
   "cell_type": "markdown",
   "metadata": {},
   "source": [
    "## Question 3\n",
    "\n",
    "Which of the following statements about $k$-Nearest Neighbor ($k$-NN) are true in a classification setting, and for all $k$? Select all that apply.\n",
    "1. The decision boundary (hyperplane between classes in feature space) of the k-NN classifier is linear.\n",
    "2. The training error of a 1-NN will always be lower than that of 5-NN.\n",
    "3. The test error of a 1-NN will always be lower than that of a 5-NN.\n",
    "4. The time needed to classify a test example with the k-NN classifier grows with the size of the training set.\n",
    "5. None of the above.\n",
    "\n",
    "*Your Answer:* 4\n",
    "\n",
    "\n",
    "*Your Explanation:*\n",
    "1. False, decision boundary is non-linear\n",
    "2. False, Depends on data.\n",
    "3. False, Depends on data.\n",
    "4. True, as size number of distances that need to be computed grows.\n",
    "\n"
   ]
  },
  {
   "cell_type": "markdown",
   "metadata": {},
   "source": []
  }
 ],
 "metadata": {
  "kernelspec": {
   "display_name": "Python 3.8.10 64-bit",
   "language": "python",
   "name": "python3"
  },
  "language_info": {
   "codemirror_mode": {
    "name": "ipython",
    "version": 3
   },
   "file_extension": ".py",
   "mimetype": "text/x-python",
   "name": "python",
   "nbconvert_exporter": "python",
   "pygments_lexer": "ipython3",
   "version": "3.8.10"
  },
  "vscode": {
   "interpreter": {
    "hash": "916dbcbb3f70747c44a77c7bcd40155683ae19c65e1c03b4aa3499c5328201f1"
   }
  }
 },
 "nbformat": 4,
 "nbformat_minor": 4
}
